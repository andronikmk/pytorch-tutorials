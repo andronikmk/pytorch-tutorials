{
 "cells": [
  {
   "cell_type": "markdown",
   "metadata": {},
   "source": [
    "## 1 Getting Started"
   ]
  },
  {
   "cell_type": "markdown",
   "metadata": {},
   "source": [
    "### **1.1 Tensor**"
   ]
  },
  {
   "cell_type": "code",
   "execution_count": 57,
   "metadata": {},
   "outputs": [],
   "source": [
    "# import libraries\n",
    "import numpy as np\n",
    "import torch"
   ]
  },
  {
   "cell_type": "code",
   "execution_count": 58,
   "metadata": {
    "tags": []
   },
   "outputs": [
    {
     "output_type": "stream",
     "name": "stdout",
     "text": "tensor([[ 0.0000e+00,  0.0000e+00, -5.7514e+06],\n        [ 4.5898e-41, -1.4226e+07,  4.5898e-41],\n        [ 1.7585e-13,  4.5900e-41, -1.4226e+07],\n        [ 4.5898e-41,  1.3854e+26, -1.3127e+01],\n        [-6.3689e+06,  4.5898e-41,  7.3156e+28]])\n"
    }
   ],
   "source": [
    "# Return an uninitilized matrix, does not contain definite known values\n",
    "x = torch.empty(5, 3)\n",
    "print(x)"
   ]
  },
  {
   "cell_type": "code",
   "execution_count": 59,
   "metadata": {
    "tags": []
   },
   "outputs": [
    {
     "output_type": "stream",
     "name": "stdout",
     "text": "tensor([[0.2694, 0.0261, 0.9355],\n        [0.5456, 0.8980, 0.3653],\n        [0.1471, 0.9123, 0.7215],\n        [0.5580, 0.1538, 0.9398],\n        [0.2876, 0.2638, 0.7480]])\n"
    }
   ],
   "source": [
    "# Return randomly initialized matrix\n",
    "x = torch.rand(5, 3)\n",
    "print(x)"
   ]
  },
  {
   "cell_type": "code",
   "execution_count": 60,
   "metadata": {
    "tags": []
   },
   "outputs": [
    {
     "output_type": "stream",
     "name": "stdout",
     "text": "tensor([[0, 0, 0],\n        [0, 0, 0],\n        [0, 0, 0],\n        [0, 0, 0],\n        [0, 0, 0]])\n"
    }
   ],
   "source": [
    "# Return a matrix filled with zeros, and define dtype\n",
    "x = torch.zeros(5, 3, dtype=torch.long)\n",
    "print(x)"
   ]
  },
  {
   "cell_type": "code",
   "execution_count": 61,
   "metadata": {
    "tags": []
   },
   "outputs": [
    {
     "output_type": "stream",
     "name": "stdout",
     "text": "tensor([[0, 0, 0],\n        [0, 0, 0],\n        [0, 0, 0],\n        [0, 0, 0],\n        [0, 0, 0]], dtype=torch.int16)\n"
    }
   ],
   "source": [
    "# Return matrix filled with zeros, and define dtype=short\n",
    "x = torch.zeros(5, 3, dtype=torch.short)\n",
    "print(x)"
   ]
  },
  {
   "cell_type": "code",
   "execution_count": 62,
   "metadata": {
    "tags": []
   },
   "outputs": [
    {
     "output_type": "stream",
     "name": "stdout",
     "text": "tensor([[5.5000, 3.0000, 4.0000],\n        [4.0000, 5.0000, 6.0000]])\n"
    }
   ],
   "source": [
    "# Return constructed tensor from data\n",
    "x = torch.tensor([[5.5, 3, 4], [4, 5, 6]])\n",
    "print(x)"
   ]
  },
  {
   "cell_type": "code",
   "execution_count": 63,
   "metadata": {
    "tags": []
   },
   "outputs": [
    {
     "output_type": "stream",
     "name": "stdout",
     "text": "tensor([5, 8, 6])\n"
    }
   ],
   "source": [
    "# Return constructed tensor from data\n",
    "# You can divide a tensor\n",
    "normalization = 255\n",
    "x = torch.tensor([1332, 2243, 1535])\n",
    "print(x//normalization)"
   ]
  },
  {
   "cell_type": "code",
   "execution_count": 64,
   "metadata": {
    "tags": []
   },
   "outputs": [
    {
     "output_type": "stream",
     "name": "stdout",
     "text": "tensor([[1., 1., 1.],\n        [1., 1., 1.],\n        [1., 1., 1.],\n        [1., 1., 1.],\n        [1., 1., 1.]], dtype=torch.float64)\n"
    }
   ],
   "source": [
    "# Return a new tensor based on an existing tensor.\n",
    "# These methods will reuse properties of the input\n",
    "# tensor unless specified otherwise\n",
    "x = x.new_ones(5, 3, dtype=torch.double)\n",
    "print(x)"
   ]
  },
  {
   "cell_type": "code",
   "execution_count": 65,
   "metadata": {
    "tags": []
   },
   "outputs": [
    {
     "output_type": "stream",
     "name": "stdout",
     "text": "tensor([[ 2.2088,  0.8922,  1.0381],\n        [ 0.2933,  1.0878, -1.2541],\n        [ 0.0515,  0.6162,  1.4265],\n        [-1.1953, -0.2922, -1.1169],\n        [ 0.2200, -0.3021, -0.5953]])\n"
    }
   ],
   "source": [
    "# Return with overrided dtype\n",
    "x = torch.randn_like(x, dtype=torch.float)\n",
    "print(x)"
   ]
  },
  {
   "cell_type": "code",
   "execution_count": 66,
   "metadata": {},
   "outputs": [
    {
     "output_type": "execute_result",
     "data": {
      "text/plain": "torch.Size([5, 3])"
     },
     "metadata": {},
     "execution_count": 66
    }
   ],
   "source": [
    "# Return size\n",
    "x.size()"
   ]
  },
  {
   "cell_type": "markdown",
   "metadata": {},
   "source": [
    "### **1.2 Operations**"
   ]
  },
  {
   "cell_type": "code",
   "execution_count": 67,
   "metadata": {
    "tags": []
   },
   "outputs": [
    {
     "output_type": "stream",
     "name": "stdout",
     "text": "tensor([[ 2.2966,  1.1856,  1.8449],\n        [ 0.6752,  1.6667, -0.5939],\n        [ 0.6339,  0.7353,  2.2749],\n        [-0.6333,  0.3441, -0.5223],\n        [ 0.6299,  0.4787, -0.2027]])\n"
    }
   ],
   "source": [
    "# Method1: Addition\n",
    "y = torch.rand(5, 3)\n",
    "print(x + y)"
   ]
  },
  {
   "cell_type": "code",
   "execution_count": 68,
   "metadata": {
    "tags": []
   },
   "outputs": [
    {
     "output_type": "stream",
     "name": "stdout",
     "text": "tensor([[ 2.2966,  1.1856,  1.8449],\n        [ 0.6752,  1.6667, -0.5939],\n        [ 0.6339,  0.7353,  2.2749],\n        [-0.6333,  0.3441, -0.5223],\n        [ 0.6299,  0.4787, -0.2027]])\n"
    }
   ],
   "source": [
    "# Method 2: Addition\n",
    "print(torch.add(x, y))"
   ]
  },
  {
   "cell_type": "code",
   "execution_count": 69,
   "metadata": {
    "tags": []
   },
   "outputs": [
    {
     "output_type": "stream",
     "name": "stdout",
     "text": "tensor([[ 2.2966,  1.1856,  1.8449],\n        [ 0.6752,  1.6667, -0.5939],\n        [ 0.6339,  0.7353,  2.2749],\n        [-0.6333,  0.3441, -0.5223],\n        [ 0.6299,  0.4787, -0.2027]])\n"
    }
   ],
   "source": [
    "# Method 3: Addition\n",
    "result = torch.empty(5, 3)\n",
    "torch.add(x, y, out=result)\n",
    "print(result)"
   ]
  },
  {
   "cell_type": "code",
   "execution_count": 70,
   "metadata": {
    "tags": []
   },
   "outputs": [
    {
     "output_type": "stream",
     "name": "stdout",
     "text": "tensor([[0.0878, 0.2935, 0.8068],\n        [0.3819, 0.5790, 0.6602],\n        [0.5824, 0.1191, 0.8484],\n        [0.5620, 0.6364, 0.5946],\n        [0.4099, 0.7808, 0.3927]])\n"
    }
   ],
   "source": [
    "# Method 4: Addition (x to y)\n",
    "y.add(x)\n",
    "print(y)"
   ]
  },
  {
   "cell_type": "code",
   "execution_count": 71,
   "metadata": {
    "tags": []
   },
   "outputs": [
    {
     "output_type": "stream",
     "name": "stdout",
     "text": "tensor([[ 2.2088,  0.8922,  1.0381],\n        [ 0.2933,  1.0878, -1.2541]])\n"
    }
   ],
   "source": [
    "# Return index (Like NumPy!)\n",
    "print(x[:2])"
   ]
  },
  {
   "cell_type": "code",
   "execution_count": 72,
   "metadata": {
    "tags": []
   },
   "outputs": [
    {
     "output_type": "stream",
     "name": "stdout",
     "text": "torch.Size([4, 4]) torch.Size([16]) torch.Size([2, 8])\n"
    }
   ],
   "source": [
    "# Return resized/reshaped tensor\n",
    "x = torch.randn(4, 4)\n",
    "y = x.view(16)\n",
    "z = x.view(-1, 8) # the size -1 is inferred from other dimensions\n",
    "print(x.size(), y.size(), z.size())"
   ]
  },
  {
   "cell_type": "code",
   "execution_count": 73,
   "metadata": {
    "tags": []
   },
   "outputs": [
    {
     "output_type": "stream",
     "name": "stdout",
     "text": "tensor([-1.1645])\n-1.1644648313522339\n"
    }
   ],
   "source": [
    "# Return one element of tensor\n",
    "x = torch.randn(1)\n",
    "print(x)\n",
    "print(x.item())"
   ]
  },
  {
   "cell_type": "markdown",
   "metadata": {},
   "source": [
    "### **NOTE: 100+ Operations on tensors**\n",
    "+ [Link](https://pytorch.org/docs/stable/torch.html)"
   ]
  },
  {
   "cell_type": "markdown",
   "metadata": {},
   "source": [
    "### **1.3 NumPy Bridge** "
   ]
  },
  {
   "cell_type": "code",
   "execution_count": 74,
   "metadata": {
    "tags": []
   },
   "outputs": [
    {
     "output_type": "stream",
     "name": "stdout",
     "text": "[1. 1. 1. 1. 1.]\n"
    }
   ],
   "source": [
    "# Convert Torch Tensor --> NumPy Array\n",
    "a = torch.ones(5)\n",
    "b = a.numpy()\n",
    "print(b)"
   ]
  },
  {
   "cell_type": "code",
   "execution_count": 75,
   "metadata": {
    "tags": []
   },
   "outputs": [
    {
     "output_type": "stream",
     "name": "stdout",
     "text": "tensor([2., 2., 2., 2., 2.])\n"
    }
   ],
   "source": [
    "# Numpy array changed in value\n",
    "a.add_(1)\n",
    "print(a)"
   ]
  },
  {
   "cell_type": "code",
   "execution_count": 76,
   "metadata": {
    "tags": []
   },
   "outputs": [
    {
     "output_type": "stream",
     "name": "stdout",
     "text": "[2. 2. 2. 2. 2.]\n"
    }
   ],
   "source": [
    "# Return NumPy Array with changed values\n",
    "print(b)"
   ]
  },
  {
   "cell_type": "code",
   "execution_count": 79,
   "metadata": {
    "tags": []
   },
   "outputs": [
    {
     "output_type": "stream",
     "name": "stdout",
     "text": "[2. 2. 2. 2. 2.]\ntensor([2., 2., 2., 2., 2.], dtype=torch.float64)\n"
    }
   ],
   "source": [
    "# Convert NumPy Array --> Torch Tensor\n",
    "a = np.ones(5)\n",
    "b = torch.from_numpy(a)\n",
    "np.add(a, 1, out=a)\n",
    "print(a)\n",
    "print(b)"
   ]
  },
  {
   "cell_type": "code",
   "execution_count": 82,
   "metadata": {},
   "outputs": [],
   "source": [
    "# # CUDA tensors\n",
    "# If availible\n",
    "\n",
    "# # let us run this cell only if CUDA is available\n",
    "# # We will use ``torch.device`` objects to move tensors in and out of GPU\n",
    "# if torch.cuda.is_available():\n",
    "#     device = torch.device(\"cuda\")          # a CUDA device object\n",
    "#     y = torch.ones_like(x, device=device)  # directly create a tensor on GPU\n",
    "#     x = x.to(device)                       # or just use strings ``.to(\"cuda\")``\n",
    "#     z = x + y\n",
    "#     print(z)\n",
    "#     print(z.to(\"cpu\", torch.double))       # ``.to`` can also change dtype together!# let us run this cell only if CUDA is available\n",
    "# # We will use ``torch.device`` objects to move tensors in and out of GPU\n",
    "# if torch.cuda.is_available():\n",
    "#     device = torch.device(\"cuda\")          # a CUDA device object\n",
    "#     y = torch.ones_like(x, device=device)  # directly create a tensor on GPU\n",
    "#     x = x.to(device)                       # or just use strings ``.to(\"cuda\")``\n",
    "#     z = x + y\n",
    "#     print(z)\n",
    "#     print(z.to(\"cpu\", torch.double))       # ``.to`` can also change dtype together!"
   ]
  }
 ],
 "metadata": {
  "language_info": {
   "codemirror_mode": {
    "name": "ipython",
    "version": 3
   },
   "file_extension": ".py",
   "mimetype": "text/x-python",
   "name": "python",
   "nbconvert_exporter": "python",
   "pygments_lexer": "ipython3",
   "version": "3.7.0-final"
  },
  "orig_nbformat": 2,
  "kernelspec": {
   "name": "pytorch",
   "display_name": "pytorch (Python3)"
  }
 },
 "nbformat": 4,
 "nbformat_minor": 2
}